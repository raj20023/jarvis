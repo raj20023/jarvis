{
 "cells": [
  {
   "cell_type": "code",
   "execution_count": 1,
   "id": "0639478f",
   "metadata": {
    "scrolled": true
   },
   "outputs": [
    {
     "name": "stdout",
     "output_type": "stream",
     "text": [
      "Collecting pyttsx3\n",
      "  Downloading pyttsx3-2.90-py3-none-any.whl (39 kB)\n",
      "Collecting pypiwin32\n",
      "  Downloading pypiwin32-223-py3-none-any.whl (1.7 kB)\n",
      "Requirement already satisfied: comtypes in c:\\users\\sony vaio\\anaconda3\\lib\\site-packages (from pyttsx3) (1.1.10)\n",
      "Requirement already satisfied: pywin32 in c:\\users\\sony vaio\\anaconda3\\lib\\site-packages (from pyttsx3) (302)\n",
      "Installing collected packages: pypiwin32, pyttsx3\n",
      "Successfully installed pypiwin32-223 pyttsx3-2.90\n",
      "Note: you may need to restart the kernel to use updated packages.\n"
     ]
    },
    {
     "name": "stderr",
     "output_type": "stream",
     "text": [
      "WARNING: Error parsing requirements for zipp: [Errno 2] No such file or directory: 'c:\\\\users\\\\sony vaio\\\\anaconda3\\\\lib\\\\site-packages\\\\zipp-3.8.0.dist-info\\\\METADATA'\n",
      "WARNING: Error parsing requirements for wrapt: [Errno 2] No such file or directory: 'c:\\\\users\\\\sony vaio\\\\anaconda3\\\\lib\\\\site-packages\\\\wrapt-1.12.1.dist-info\\\\METADATA'\n",
      "WARNING: Error parsing requirements for typed-ast: [Errno 2] No such file or directory: 'c:\\\\users\\\\sony vaio\\\\anaconda3\\\\lib\\\\site-packages\\\\typed_ast-1.4.3.dist-info\\\\METADATA'\n",
      "WARNING: Error parsing requirements for twisted-iocpsupport: [Errno 2] No such file or directory: 'c:\\\\users\\\\sony vaio\\\\anaconda3\\\\lib\\\\site-packages\\\\twisted_iocpsupport-1.0.2.dist-info\\\\METADATA'\n",
      "WARNING: Error parsing requirements for tomli: [Errno 2] No such file or directory: 'c:\\\\users\\\\sony vaio\\\\anaconda3\\\\lib\\\\site-packages\\\\tomli-2.0.1.dist-info\\\\METADATA'\n",
      "WARNING: Error parsing requirements for tenacity: [Errno 2] No such file or directory: 'c:\\\\users\\\\sony vaio\\\\anaconda3\\\\lib\\\\site-packages\\\\tenacity-8.0.1.dist-info\\\\METADATA'\n",
      "WARNING: Error parsing requirements for tabulate: [Errno 2] No such file or directory: 'c:\\\\users\\\\sony vaio\\\\anaconda3\\\\lib\\\\site-packages\\\\tabulate-0.8.10.dist-info\\\\METADATA'\n",
      "WARNING: Error parsing requirements for smart-open: [Errno 2] No such file or directory: 'c:\\\\users\\\\sony vaio\\\\anaconda3\\\\lib\\\\site-packages\\\\smart_open-5.2.1.dist-info\\\\METADATA'\n",
      "WARNING: Error parsing requirements for rtree: [Errno 2] No such file or directory: 'c:\\\\users\\\\sony vaio\\\\anaconda3\\\\lib\\\\site-packages\\\\Rtree-0.9.7.dist-info\\\\METADATA'\n",
      "WARNING: Error parsing requirements for regex: [Errno 2] No such file or directory: 'c:\\\\users\\\\sony vaio\\\\anaconda3\\\\lib\\\\site-packages\\\\regex-2022.7.9.dist-info\\\\METADATA'\n",
      "WARNING: Error parsing requirements for pywin32-ctypes: [Errno 2] No such file or directory: 'c:\\\\users\\\\sony vaio\\\\anaconda3\\\\lib\\\\site-packages\\\\pywin32_ctypes-0.2.0.dist-info\\\\METADATA'\n",
      "WARNING: Error parsing requirements for python-snappy: [Errno 2] No such file or directory: 'c:\\\\users\\\\sony vaio\\\\anaconda3\\\\lib\\\\site-packages\\\\python_snappy-0.6.0.dist-info\\\\METADATA'\n",
      "WARNING: Error parsing requirements for pyodbc: [Errno 2] No such file or directory: 'c:\\\\users\\\\sony vaio\\\\anaconda3\\\\lib\\\\site-packages\\\\pyodbc-4.0.34.dist-info\\\\METADATA'\n",
      "WARNING: Error parsing requirements for pluggy: [Errno 2] No such file or directory: 'c:\\\\users\\\\sony vaio\\\\anaconda3\\\\lib\\\\site-packages\\\\pluggy-1.0.0.dist-info\\\\METADATA'\n",
      "WARNING: Error parsing requirements for pathspec: [Errno 2] No such file or directory: 'c:\\\\users\\\\sony vaio\\\\anaconda3\\\\lib\\\\site-packages\\\\pathspec-0.9.0.dist-info\\\\METADATA'\n",
      "WARNING: Error parsing requirements for numpy: [Errno 2] No such file or directory: 'c:\\\\users\\\\sony vaio\\\\anaconda3\\\\lib\\\\site-packages\\\\numpy-1.23.2.dist-info\\\\METADATA'\n",
      "WARNING: Error parsing requirements for networkx: [Errno 2] No such file or directory: 'c:\\\\users\\\\sony vaio\\\\anaconda3\\\\lib\\\\site-packages\\\\networkx-2.8.4.dist-info\\\\METADATA'\n",
      "WARNING: Error parsing requirements for multidict: [Errno 2] No such file or directory: 'c:\\\\users\\\\sony vaio\\\\anaconda3\\\\lib\\\\site-packages\\\\multidict-5.1.0.dist-info\\\\METADATA'\n",
      "WARNING: Error parsing requirements for msgpack: [Errno 2] No such file or directory: 'c:\\\\users\\\\sony vaio\\\\anaconda3\\\\lib\\\\site-packages\\\\msgpack-1.0.3.dist-info\\\\METADATA'\n",
      "WARNING: Error parsing requirements for lz4: [Errno 2] No such file or directory: 'c:\\\\users\\\\sony vaio\\\\anaconda3\\\\lib\\\\site-packages\\\\lz4-3.1.3.dist-info\\\\METADATA'\n",
      "WARNING: Error parsing requirements for lxml: [Errno 2] No such file or directory: 'c:\\\\users\\\\sony vaio\\\\anaconda3\\\\lib\\\\site-packages\\\\lxml-4.9.1.dist-info\\\\METADATA'\n",
      "WARNING: Error parsing requirements for locket: [Errno 2] No such file or directory: 'c:\\\\users\\\\sony vaio\\\\anaconda3\\\\lib\\\\site-packages\\\\locket-1.0.0.dist-info\\\\METADATA'\n",
      "WARNING: Error parsing requirements for lazy-object-proxy: [Errno 2] No such file or directory: 'c:\\\\users\\\\sony vaio\\\\anaconda3\\\\lib\\\\site-packages\\\\lazy_object_proxy-1.6.0.dist-info\\\\METADATA'\n",
      "WARNING: Error parsing requirements for kiwisolver: [Errno 2] No such file or directory: 'c:\\\\users\\\\sony vaio\\\\anaconda3\\\\lib\\\\site-packages\\\\kiwisolver-1.4.2.dist-info\\\\METADATA'\n",
      "WARNING: Error parsing requirements for importlib-metadata: [Errno 2] No such file or directory: 'c:\\\\users\\\\sony vaio\\\\anaconda3\\\\lib\\\\site-packages\\\\importlib_metadata-4.11.3.dist-info\\\\METADATA'\n",
      "WARNING: Error parsing requirements for imagesize: [Errno 2] No such file or directory: 'c:\\\\users\\\\sony vaio\\\\anaconda3\\\\lib\\\\site-packages\\\\imagesize-1.4.1.dist-info\\\\METADATA'\n",
      "WARNING: Error parsing requirements for greenlet: [Errno 2] No such file or directory: 'c:\\\\users\\\\sony vaio\\\\anaconda3\\\\lib\\\\site-packages\\\\greenlet-1.1.1.dist-info\\\\METADATA'\n",
      "WARNING: Error parsing requirements for googleapis-common-protos: [Errno 2] No such file or directory: 'c:\\\\users\\\\sony vaio\\\\anaconda3\\\\lib\\\\site-packages\\\\googleapis_common_protos-1.56.4.dist-info\\\\METADATA'\n",
      "WARNING: Error parsing requirements for fsspec: [Errno 2] No such file or directory: 'c:\\\\users\\\\sony vaio\\\\anaconda3\\\\lib\\\\site-packages\\\\fsspec-2022.7.1.dist-info\\\\METADATA'\n",
      "WARNING: Error parsing requirements for frozenlist: [Errno 2] No such file or directory: 'c:\\\\users\\\\sony vaio\\\\anaconda3\\\\lib\\\\site-packages\\\\frozenlist-1.2.0.dist-info\\\\METADATA'\n",
      "WARNING: Error parsing requirements for docutils: [Errno 2] No such file or directory: 'c:\\\\users\\\\sony vaio\\\\anaconda3\\\\lib\\\\site-packages\\\\docutils-0.18.1.dist-info\\\\METADATA'\n",
      "WARNING: Error parsing requirements for cython: [Errno 2] No such file or directory: 'c:\\\\users\\\\sony vaio\\\\anaconda3\\\\lib\\\\site-packages\\\\Cython-0.29.30.dist-info\\\\METADATA'\n",
      "WARNING: Error parsing requirements for bitarray: [Errno 2] No such file or directory: 'c:\\\\users\\\\sony vaio\\\\anaconda3\\\\lib\\\\site-packages\\\\bitarray-2.5.1.dist-info\\\\METADATA'\n"
     ]
    }
   ],
   "source": [
    "pip install pyttsx3"
   ]
  },
  {
   "cell_type": "code",
   "execution_count": null,
   "id": "676c8531",
   "metadata": {},
   "outputs": [],
   "source": []
  },
  {
   "cell_type": "code",
   "execution_count": 2,
   "id": "f472d758",
   "metadata": {},
   "outputs": [
    {
     "ename": "AttributeError",
     "evalue": "module 'comtypes.client' has no attribute 'CreateObject'",
     "output_type": "error",
     "traceback": [
      "\u001b[1;31m---------------------------------------------------------------------------\u001b[0m",
      "\u001b[1;31mKeyError\u001b[0m                                  Traceback (most recent call last)",
      "File \u001b[1;32m~\\anaconda3\\lib\\site-packages\\pyttsx3\\__init__.py:20\u001b[0m, in \u001b[0;36minit\u001b[1;34m(driverName, debug)\u001b[0m\n\u001b[0;32m     19\u001b[0m \u001b[38;5;28;01mtry\u001b[39;00m:\n\u001b[1;32m---> 20\u001b[0m     eng \u001b[38;5;241m=\u001b[39m \u001b[43m_activeEngines\u001b[49m\u001b[43m[\u001b[49m\u001b[43mdriverName\u001b[49m\u001b[43m]\u001b[49m\n\u001b[0;32m     21\u001b[0m \u001b[38;5;28;01mexcept\u001b[39;00m \u001b[38;5;167;01mKeyError\u001b[39;00m:\n",
      "File \u001b[1;32m~\\anaconda3\\lib\\weakref.py:137\u001b[0m, in \u001b[0;36mWeakValueDictionary.__getitem__\u001b[1;34m(self, key)\u001b[0m\n\u001b[0;32m    136\u001b[0m     \u001b[38;5;28mself\u001b[39m\u001b[38;5;241m.\u001b[39m_commit_removals()\n\u001b[1;32m--> 137\u001b[0m o \u001b[38;5;241m=\u001b[39m \u001b[38;5;28;43mself\u001b[39;49m\u001b[38;5;241;43m.\u001b[39;49m\u001b[43mdata\u001b[49m\u001b[43m[\u001b[49m\u001b[43mkey\u001b[49m\u001b[43m]\u001b[49m()\n\u001b[0;32m    138\u001b[0m \u001b[38;5;28;01mif\u001b[39;00m o \u001b[38;5;129;01mis\u001b[39;00m \u001b[38;5;28;01mNone\u001b[39;00m:\n",
      "\u001b[1;31mKeyError\u001b[0m: None",
      "\nDuring handling of the above exception, another exception occurred:\n",
      "\u001b[1;31mModuleNotFoundError\u001b[0m                       Traceback (most recent call last)",
      "File \u001b[1;32m~\\anaconda3\\lib\\site-packages\\pyttsx3\\drivers\\sapi5.py:3\u001b[0m, in \u001b[0;36m<module>\u001b[1;34m\u001b[0m\n\u001b[0;32m      2\u001b[0m \u001b[38;5;28;01mtry\u001b[39;00m:\n\u001b[1;32m----> 3\u001b[0m     \u001b[38;5;28;01mfrom\u001b[39;00m \u001b[38;5;21;01mcomtypes\u001b[39;00m\u001b[38;5;21;01m.\u001b[39;00m\u001b[38;5;21;01mgen\u001b[39;00m \u001b[38;5;28;01mimport\u001b[39;00m SpeechLib  \u001b[38;5;66;03m# comtypes\u001b[39;00m\n\u001b[0;32m      4\u001b[0m \u001b[38;5;28;01mexcept\u001b[39;00m \u001b[38;5;167;01mImportError\u001b[39;00m:\n\u001b[0;32m      5\u001b[0m     \u001b[38;5;66;03m# Generate the SpeechLib lib and any associated files\u001b[39;00m\n",
      "\u001b[1;31mModuleNotFoundError\u001b[0m: No module named 'comtypes.gen'",
      "\nDuring handling of the above exception, another exception occurred:\n",
      "\u001b[1;31mAttributeError\u001b[0m                            Traceback (most recent call last)",
      "Input \u001b[1;32mIn [2]\u001b[0m, in \u001b[0;36m<cell line: 4>\u001b[1;34m()\u001b[0m\n\u001b[0;32m      1\u001b[0m \u001b[38;5;28;01mimport\u001b[39;00m \u001b[38;5;21;01mpyttsx3\u001b[39;00m\n\u001b[0;32m      3\u001b[0m \u001b[38;5;66;03m# initialize the pyttsx3 engine\u001b[39;00m\n\u001b[1;32m----> 4\u001b[0m engine \u001b[38;5;241m=\u001b[39m \u001b[43mpyttsx3\u001b[49m\u001b[38;5;241;43m.\u001b[39;49m\u001b[43minit\u001b[49m\u001b[43m(\u001b[49m\u001b[43m)\u001b[49m\n\u001b[0;32m      6\u001b[0m \u001b[38;5;66;03m# set properties for the speech\u001b[39;00m\n\u001b[0;32m      7\u001b[0m engine\u001b[38;5;241m.\u001b[39msetProperty(\u001b[38;5;124m'\u001b[39m\u001b[38;5;124mrate\u001b[39m\u001b[38;5;124m'\u001b[39m, \u001b[38;5;241m150\u001b[39m)  \u001b[38;5;66;03m# set the speaking rate in words per minute\u001b[39;00m\n",
      "File \u001b[1;32m~\\anaconda3\\lib\\site-packages\\pyttsx3\\__init__.py:22\u001b[0m, in \u001b[0;36minit\u001b[1;34m(driverName, debug)\u001b[0m\n\u001b[0;32m     20\u001b[0m     eng \u001b[38;5;241m=\u001b[39m _activeEngines[driverName]\n\u001b[0;32m     21\u001b[0m \u001b[38;5;28;01mexcept\u001b[39;00m \u001b[38;5;167;01mKeyError\u001b[39;00m:\n\u001b[1;32m---> 22\u001b[0m     eng \u001b[38;5;241m=\u001b[39m \u001b[43mEngine\u001b[49m\u001b[43m(\u001b[49m\u001b[43mdriverName\u001b[49m\u001b[43m,\u001b[49m\u001b[43m \u001b[49m\u001b[43mdebug\u001b[49m\u001b[43m)\u001b[49m\n\u001b[0;32m     23\u001b[0m     _activeEngines[driverName] \u001b[38;5;241m=\u001b[39m eng\n\u001b[0;32m     24\u001b[0m \u001b[38;5;28;01mreturn\u001b[39;00m eng\n",
      "File \u001b[1;32m~\\anaconda3\\lib\\site-packages\\pyttsx3\\engine.py:30\u001b[0m, in \u001b[0;36mEngine.__init__\u001b[1;34m(self, driverName, debug)\u001b[0m\n\u001b[0;32m     20\u001b[0m \u001b[38;5;28;01mdef\u001b[39;00m \u001b[38;5;21m__init__\u001b[39m(\u001b[38;5;28mself\u001b[39m, driverName\u001b[38;5;241m=\u001b[39m\u001b[38;5;28;01mNone\u001b[39;00m, debug\u001b[38;5;241m=\u001b[39m\u001b[38;5;28;01mFalse\u001b[39;00m):\n\u001b[0;32m     21\u001b[0m     \u001b[38;5;124;03m\"\"\"\u001b[39;00m\n\u001b[0;32m     22\u001b[0m \u001b[38;5;124;03m    Constructs a new TTS engine instance.\u001b[39;00m\n\u001b[0;32m     23\u001b[0m \n\u001b[1;32m   (...)\u001b[0m\n\u001b[0;32m     28\u001b[0m \u001b[38;5;124;03m    @type debug: bool\u001b[39;00m\n\u001b[0;32m     29\u001b[0m \u001b[38;5;124;03m    \"\"\"\u001b[39;00m\n\u001b[1;32m---> 30\u001b[0m     \u001b[38;5;28mself\u001b[39m\u001b[38;5;241m.\u001b[39mproxy \u001b[38;5;241m=\u001b[39m \u001b[43mdriver\u001b[49m\u001b[38;5;241;43m.\u001b[39;49m\u001b[43mDriverProxy\u001b[49m\u001b[43m(\u001b[49m\u001b[43mweakref\u001b[49m\u001b[38;5;241;43m.\u001b[39;49m\u001b[43mproxy\u001b[49m\u001b[43m(\u001b[49m\u001b[38;5;28;43mself\u001b[39;49m\u001b[43m)\u001b[49m\u001b[43m,\u001b[49m\u001b[43m \u001b[49m\u001b[43mdriverName\u001b[49m\u001b[43m,\u001b[49m\u001b[43m \u001b[49m\u001b[43mdebug\u001b[49m\u001b[43m)\u001b[49m\n\u001b[0;32m     31\u001b[0m     \u001b[38;5;66;03m# initialize other vars\u001b[39;00m\n\u001b[0;32m     32\u001b[0m     \u001b[38;5;28mself\u001b[39m\u001b[38;5;241m.\u001b[39m_connects \u001b[38;5;241m=\u001b[39m {}\n",
      "File \u001b[1;32m~\\anaconda3\\lib\\site-packages\\pyttsx3\\driver.py:50\u001b[0m, in \u001b[0;36mDriverProxy.__init__\u001b[1;34m(self, engine, driverName, debug)\u001b[0m\n\u001b[0;32m     48\u001b[0m \u001b[38;5;66;03m# import driver module\u001b[39;00m\n\u001b[0;32m     49\u001b[0m name \u001b[38;5;241m=\u001b[39m \u001b[38;5;124m'\u001b[39m\u001b[38;5;124mpyttsx3.drivers.\u001b[39m\u001b[38;5;132;01m%s\u001b[39;00m\u001b[38;5;124m'\u001b[39m \u001b[38;5;241m%\u001b[39m driverName\n\u001b[1;32m---> 50\u001b[0m \u001b[38;5;28mself\u001b[39m\u001b[38;5;241m.\u001b[39m_module \u001b[38;5;241m=\u001b[39m \u001b[43mimportlib\u001b[49m\u001b[38;5;241;43m.\u001b[39;49m\u001b[43mimport_module\u001b[49m\u001b[43m(\u001b[49m\u001b[43mname\u001b[49m\u001b[43m)\u001b[49m\n\u001b[0;32m     51\u001b[0m \u001b[38;5;66;03m# build driver instance\u001b[39;00m\n\u001b[0;32m     52\u001b[0m \u001b[38;5;28mself\u001b[39m\u001b[38;5;241m.\u001b[39m_driver \u001b[38;5;241m=\u001b[39m \u001b[38;5;28mself\u001b[39m\u001b[38;5;241m.\u001b[39m_module\u001b[38;5;241m.\u001b[39mbuildDriver(weakref\u001b[38;5;241m.\u001b[39mproxy(\u001b[38;5;28mself\u001b[39m))\n",
      "File \u001b[1;32m~\\anaconda3\\lib\\importlib\\__init__.py:127\u001b[0m, in \u001b[0;36mimport_module\u001b[1;34m(name, package)\u001b[0m\n\u001b[0;32m    125\u001b[0m             \u001b[38;5;28;01mbreak\u001b[39;00m\n\u001b[0;32m    126\u001b[0m         level \u001b[38;5;241m+\u001b[39m\u001b[38;5;241m=\u001b[39m \u001b[38;5;241m1\u001b[39m\n\u001b[1;32m--> 127\u001b[0m \u001b[38;5;28;01mreturn\u001b[39;00m \u001b[43m_bootstrap\u001b[49m\u001b[38;5;241;43m.\u001b[39;49m\u001b[43m_gcd_import\u001b[49m\u001b[43m(\u001b[49m\u001b[43mname\u001b[49m\u001b[43m[\u001b[49m\u001b[43mlevel\u001b[49m\u001b[43m:\u001b[49m\u001b[43m]\u001b[49m\u001b[43m,\u001b[49m\u001b[43m \u001b[49m\u001b[43mpackage\u001b[49m\u001b[43m,\u001b[49m\u001b[43m \u001b[49m\u001b[43mlevel\u001b[49m\u001b[43m)\u001b[49m\n",
      "File \u001b[1;32m<frozen importlib._bootstrap>:1030\u001b[0m, in \u001b[0;36m_gcd_import\u001b[1;34m(name, package, level)\u001b[0m\n",
      "File \u001b[1;32m<frozen importlib._bootstrap>:1007\u001b[0m, in \u001b[0;36m_find_and_load\u001b[1;34m(name, import_)\u001b[0m\n",
      "File \u001b[1;32m<frozen importlib._bootstrap>:986\u001b[0m, in \u001b[0;36m_find_and_load_unlocked\u001b[1;34m(name, import_)\u001b[0m\n",
      "File \u001b[1;32m<frozen importlib._bootstrap>:680\u001b[0m, in \u001b[0;36m_load_unlocked\u001b[1;34m(spec)\u001b[0m\n",
      "File \u001b[1;32m<frozen importlib._bootstrap_external>:850\u001b[0m, in \u001b[0;36mexec_module\u001b[1;34m(self, module)\u001b[0m\n",
      "File \u001b[1;32m<frozen importlib._bootstrap>:228\u001b[0m, in \u001b[0;36m_call_with_frames_removed\u001b[1;34m(f, *args, **kwds)\u001b[0m\n",
      "File \u001b[1;32m~\\anaconda3\\lib\\site-packages\\pyttsx3\\drivers\\sapi5.py:6\u001b[0m, in \u001b[0;36m<module>\u001b[1;34m\u001b[0m\n\u001b[0;32m      3\u001b[0m     \u001b[38;5;28;01mfrom\u001b[39;00m \u001b[38;5;21;01mcomtypes\u001b[39;00m\u001b[38;5;21;01m.\u001b[39;00m\u001b[38;5;21;01mgen\u001b[39;00m \u001b[38;5;28;01mimport\u001b[39;00m SpeechLib  \u001b[38;5;66;03m# comtypes\u001b[39;00m\n\u001b[0;32m      4\u001b[0m \u001b[38;5;28;01mexcept\u001b[39;00m \u001b[38;5;167;01mImportError\u001b[39;00m:\n\u001b[0;32m      5\u001b[0m     \u001b[38;5;66;03m# Generate the SpeechLib lib and any associated files\u001b[39;00m\n\u001b[1;32m----> 6\u001b[0m     engine \u001b[38;5;241m=\u001b[39m \u001b[43mcomtypes\u001b[49m\u001b[38;5;241;43m.\u001b[39;49m\u001b[43mclient\u001b[49m\u001b[38;5;241;43m.\u001b[39;49m\u001b[43mCreateObject\u001b[49m(\u001b[38;5;124m\"\u001b[39m\u001b[38;5;124mSAPI.SpVoice\u001b[39m\u001b[38;5;124m\"\u001b[39m)\n\u001b[0;32m      7\u001b[0m     stream \u001b[38;5;241m=\u001b[39m comtypes\u001b[38;5;241m.\u001b[39mclient\u001b[38;5;241m.\u001b[39mCreateObject(\u001b[38;5;124m\"\u001b[39m\u001b[38;5;124mSAPI.SpFileStream\u001b[39m\u001b[38;5;124m\"\u001b[39m)\n\u001b[0;32m      8\u001b[0m     \u001b[38;5;28;01mfrom\u001b[39;00m \u001b[38;5;21;01mcomtypes\u001b[39;00m\u001b[38;5;21;01m.\u001b[39;00m\u001b[38;5;21;01mgen\u001b[39;00m \u001b[38;5;28;01mimport\u001b[39;00m SpeechLib\n",
      "\u001b[1;31mAttributeError\u001b[0m: module 'comtypes.client' has no attribute 'CreateObject'"
     ]
    }
   ],
   "source": [
    "import pyttsx3\n",
    "\n",
    "# initialize the pyttsx3 engine\n",
    "engine = pyttsx3.init()\n",
    "\n",
    "# set properties for the speech\n",
    "engine.setProperty('rate', 150)  # set the speaking rate in words per minute\n",
    "engine.setProperty('volume', 0.7)  # set the volume level (0-1)\n",
    "\n",
    "# get input text from the user\n",
    "text = input('Enter the text you want to convert to speech: ')\n",
    "\n",
    "# convert the text to speech\n",
    "engine.say(text)\n",
    "engine.runAndWait()\n"
   ]
  },
  {
   "cell_type": "code",
   "execution_count": null,
   "id": "a3228d49",
   "metadata": {},
   "outputs": [],
   "source": []
  }
 ],
 "metadata": {
  "kernelspec": {
   "display_name": "Python 3 (ipykernel)",
   "language": "python",
   "name": "python3"
  },
  "language_info": {
   "codemirror_mode": {
    "name": "ipython",
    "version": 3
   },
   "file_extension": ".py",
   "mimetype": "text/x-python",
   "name": "python",
   "nbconvert_exporter": "python",
   "pygments_lexer": "ipython3",
   "version": "3.9.12"
  }
 },
 "nbformat": 4,
 "nbformat_minor": 5
}
